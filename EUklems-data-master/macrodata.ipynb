{
 "cells": [
  {
   "cell_type": "code",
   "execution_count": 1,
   "metadata": {},
   "outputs": [],
   "source": [
    "import pandas as pd\n",
    "import requests\n",
    "import json\n",
    "from bs4 import BeautifulSoup\n",
    "from tqdm import tqdm_notebook as tqdm"
   ]
  },
  {
   "cell_type": "markdown",
   "metadata": {},
   "source": [
    "# EU KLEMS\n",
    "\n",
    "Database description: \n",
    "    The EU KLEMS project aimed at creating a database on measures of economic growth, productivity, employment creation, capital formation and technological change at the industry level for all European Union member states from 1970 onwards. The database will provide an important input to policy evaluation, in particular for the assessment of the goals concerning competitiveness and economic growth potential as established by the Lisbon and Barcelona summit goals.\n",
    "    \n",
    "The input measures include various categories of capital, labour, energy, material and service inputs. Productivity measures have also been developed, in particular with growth accounting techniques. Several measures on knowledge creation have also been constructed. \n",
    "   \n",
    "Purpose: The EU KLEMS Database can be used for analytical and policy-related purposes, in particular by studying the relationship between skill formation, technological progress and innovation on the one hand, and productivity, on the other. To facilitate this type of analysis a link will has been sought with existing micro (firm level) databases. The balance in academic, statistical and policy input in this project was realised by the participation of 15 organisations from across the EU, representing a mix of academic institutions and national economic policy research institutes and with the support from various statistical offices and the OECD.\n",
    "\n",
    "The code downloads the EU KLEMS database's output and capital input files from www.euklems.net and convert it into a pandas dataframe."
   ]
  },
  {
   "cell_type": "code",
   "execution_count": 2,
   "metadata": {},
   "outputs": [],
   "source": [
    "HEADERS = \\\n",
    "    {'Host': 'www.euklems.net',\n",
    "     'Connection': 'keep-alive',\n",
    "     'Cache-Control': 'max-age=0',\n",
    "     'Upgrade-Insecure-Requests': '1',\n",
    "     'User-Agent': 'Mozilla/5.0 (Macintosh; Intel Mac OS X 10_14_4) AppleWebKit/537.36 (KHTML, like Gecko) Chrome/73.0.3683.103 Safari/537.36',\n",
    "      'Accept': 'text/html,application/xhtml+xml,application/xml;q=0.9,image/webp,image/apng,*/*;q=0.8,application/signed-exchange;v=b3',\n",
    "     'Accept-Encoding': 'gzip, deflate',\n",
    "     'Accept-Language': 'hu-HU,hu;q=0.9,en-US;q=0.8,en;q=0.7',\n",
    "     'If-None-Match': \"3ec-5724883dc06c0\",\n",
    "    'If-Modified-Since': 'Tue, 31 Jul 2018 09:50:59 GMT'}\n",
    "homelink = 'http://www.euklems.net/index_TCB_201807.shtml'\n",
    "home = requests.get(homelink,headers = HEADERS)"
   ]
  },
  {
   "cell_type": "code",
   "execution_count": 3,
   "metadata": {
    "scrolled": true
   },
   "outputs": [],
   "source": [
    "excel_files = [i.get('href') for i in BeautifulSoup(home.content).find_all('a')\\\n",
    "               if i.get('href') is not None and '.xlsx' in i.get('href')\\\n",
    "               and 'labour' not in i.get('href')]"
   ]
  },
  {
   "cell_type": "markdown",
   "metadata": {},
   "source": [
    "Csinál egy key táblát, és exportálja .csv-ben, ez már megvan a mappámban csak be kell hívni\n",
    "\n",
    "keys_1 = pd.read_excel('http://www.euklems.net/' + excel_files[0])\\\n",
    "            .rename({'Austria':'Key','Unnamed: 1':'Variable'}, axis = 1)\\\n",
    "            .dropna(axis = 0, subset = ['Variable'])\\\n",
    "            .dropna(axis = 1, how = 'all')\n",
    "\n",
    "keys_2 = pd.read_excel('http://www.euklems.net/' + excel_files[1])\\\n",
    "           .rename({'Austria':'Key','Unnamed: 1':'Variable'},axis = 1)\n",
    "\n",
    "for j in range(5):\n",
    "    for i in range(11):\n",
    "        keys_2['Variable'][6 + j * 13 + i] =\\\n",
    "        keys_2['Key'][5 + j * 13] + ' of ' + keys_2['Variable'][6 + j * 13 + i]\n",
    "\n",
    "keys_2 = keys_2.dropna(axis = 0, subset = ['Variable'])\\\n",
    "             .dropna(axis = 1, how = 'all')\n",
    "\n",
    "pd.concat([keys_1, keys_2], sort = False)\\\n",
    ".to_csv('key_table.csv', index = False,header = True)"
   ]
  },
  {
   "cell_type": "code",
   "execution_count": 4,
   "metadata": {},
   "outputs": [],
   "source": [
    "euklems_key = pd.read_csv('key_table.csv')"
   ]
  },
  {
   "cell_type": "code",
   "execution_count": 5,
   "metadata": {},
   "outputs": [],
   "source": [
    "def url_to_sheet_name(home_url, excel_url):\n",
    "    sheet_names = pd.ExcelFile(home_url + excel_url).sheet_names\n",
    "    sheet_names.remove('Notes')\n",
    "    try:\n",
    "        sheet_names.remove('Asset Breakdown')\n",
    "    except:\n",
    "        pass\n",
    "    for _, e in enumerate(sheet_names):\n",
    "        e.strip()\n",
    "    return sheet_names"
   ]
  },
  {
   "cell_type": "code",
   "execution_count": 6,
   "metadata": {},
   "outputs": [],
   "source": [
    "def excel_to_df(excel_od,sheet_name):\n",
    "    excel_od[sheet_name] = excel_od[sheet_name].dropna(axis = 1,how = 'all').dropna(axis = 0,how = 'all')\\\n",
    "                                     .drop('code', axis = 1)\n",
    "    df = pd.melt(excel_od[sheet_name], id_vars = [\"desc\"])\\\n",
    "                     .rename({'variable':'Key','desc':'Industry','value':'Value'},axis = 1)\n",
    "    return df"
   ]
  },
  {
   "cell_type": "code",
   "execution_count": 7,
   "metadata": {},
   "outputs": [],
   "source": [
    "def shape_df_var(df_var):\n",
    "    if e == 'Deprate':\n",
    "            df_var['Year'] = [None for i in range(df_var.shape[0])]\n",
    "    else:\n",
    "        df_var['Year'] = [int(df_var.at[i,'Key'][-4:]) for i in range(df_var.shape[0])]\n",
    "        df_var['Key'] = [e for i in range(df_var.shape[0])]"
   ]
  },
  {
   "cell_type": "code",
   "execution_count": 8,
   "metadata": {},
   "outputs": [
    {
     "data": {
      "application/vnd.jupyter.widget-view+json": {
       "model_id": "2c00dcca1e524154b3af187f03ea4b63",
       "version_major": 2,
       "version_minor": 0
      },
      "text/plain": [
       "HBox(children=(IntProgress(value=0, max=61), HTML(value='')))"
      ]
     },
     "metadata": {},
     "output_type": "display_data"
    },
    {
     "name": "stdout",
     "output_type": "stream",
     "text": [
      "\n"
     ]
    }
   ],
   "source": [
    "df = pd.DataFrame(columns = ['Country','Key','Year','Industry','Value'])\n",
    "for j in tqdm(range(len(excel_files))):\n",
    "    \n",
    "    sheet_names = url_to_sheet_name('http://www.euklems.net/',excel_files[j])  \n",
    "    excel_od = pd.read_excel('http://www.euklems.net/' + excel_files[j],sheet_name = sheet_names)\n",
    "    df_con = pd.DataFrame(columns = ['Country','Key','Year','Industry','Value'])\n",
    "    \n",
    "    for _, e in enumerate(sheet_names):\n",
    "        #because of typos in the original excel sheet:\n",
    "        if j == 7 and e == 'Iq_OIPP':\n",
    "            excel_od[e] = excel_od[e].dropna(axis = 1,how = 'all').dropna(axis = 0,how = 'all')\\\n",
    "                                     .drop('code', axis = 1).drop(104, axis = 0)\n",
    "            df_var = pd.melt(excel_od[e], id_vars = [\"desc\"])\\\n",
    "                     .rename({'variable':'Key','desc':'Industry','value':'Value'},axis = 1)\n",
    "            df_var.iloc[21,1] = 'Iq_OIPP1991'\n",
    "            \n",
    "        else:\n",
    "            df_var = excel_to_df(excel_od,e)\n",
    "            \n",
    "        shape_df_var(df_var)\n",
    "        df_con = pd.concat([df_con,df_var],sort = False)\n",
    "        \n",
    "    df_con['Country'] = list(pd.read_excel('http://www.euklems.net/' + excel_files[j]))[0].strip()\n",
    "    df = pd.concat([df,df_con],sort = False)"
   ]
  },
  {
   "cell_type": "code",
   "execution_count": 9,
   "metadata": {},
   "outputs": [],
   "source": [
    "df_euklems = df.merge(euklems_key, how = 'left', on = 'Key')\n",
    "df_euklems['Database'] = 'EU KLEMS'\n",
    "df_euklems['Industry'] = df_euklems['Industry'].str.strip()"
   ]
  },
  {
   "cell_type": "code",
   "execution_count": 12,
   "metadata": {},
   "outputs": [],
   "source": [
    "df_euklems.to_csv('euklems.csv', index = False, header = True)"
   ]
  },
  {
   "cell_type": "markdown",
   "metadata": {},
   "source": [
    "# Maddison Project Database 2018\n",
    "\n",
    "Database description: The Maddison Project Database provides information on comparative economic growth and income levels over the very long run. The 2018 version of this database covers 169 countries and the period up to 2016.\n",
    "\n",
    "The code downloads the Maddison Project 2018 database from https://www.rug.nl/ggdc/historicaldevelopment/maddison/releases/maddison-project-database-2018 and convert it into a pandas dataframe."
   ]
  },
  {
   "cell_type": "code",
   "execution_count": 10,
   "metadata": {},
   "outputs": [],
   "source": [
    "MP_sn = pd.ExcelFile('https://www.rug.nl/ggdc/historicaldevelopment/maddison/data/mpd2018.xlsx').sheet_names\n",
    "MP = pd.read_excel('https://www.rug.nl/ggdc/historicaldevelopment/maddison/data/mpd2018.xlsx', sheet_name = MP_sn)"
   ]
  },
  {
   "cell_type": "code",
   "execution_count": 11,
   "metadata": {},
   "outputs": [],
   "source": [
    "MP_key = MP[MP_sn[0]].dropna(axis = 0, subset = ['Unnamed: 1'])\\\n",
    "                     .rename({'Maddison Project Database (MPD) 2018':'Key','Unnamed: 1':'Variable'}, axis = 1)"
   ]
  },
  {
   "cell_type": "code",
   "execution_count": 12,
   "metadata": {},
   "outputs": [],
   "source": [
    "df_mp = pd.DataFrame(columns = ['Country','Key','Year','Industry','Value'])\n",
    "for i in range(2,5):\n",
    "    df_var = pd.melt(MP[MP_sn[i]],id_vars = (MP_sn[i]))\\\n",
    "               .rename({MP_sn[i]:'Year','variable':'Country','value':'Value'}, axis = 1)\n",
    "    df_var['Key'] = MP_sn[i]\n",
    "    df_mp = pd.concat([df_mp,df_var],sort = False)\n",
    "df_mp['Industry'] = 'TOTAL INDUSTRIES'\n",
    "df_mp['Database'] = MP[MP_sn[0]].columns[0]\n",
    "df_mp = df_mp.drop(df_mp[df_mp['Year'] == 'year' ].index, axis = 0)\\\n",
    "             .merge(MP_key, how = 'left', on = 'Key')"
   ]
  },
  {
   "cell_type": "code",
   "execution_count": 14,
   "metadata": {},
   "outputs": [],
   "source": [
    "df_mp.to_csv('maddison.csv', index = False, header = True)"
   ]
  },
  {
   "cell_type": "markdown",
   "metadata": {},
   "source": [
    "# Penn World Table version 9.1\n",
    "\n",
    "Database description: PWT version 9.1 is a database with information on relative levels of income, output, input and productivity, covering 182 countries between 1950 and 2017.\n",
    "\n",
    "The code downloads the Penn World Table version 9.1 database from https://www.rug.nl/ggdc/productivity/pwt/ and convert it into a pandas dataframe."
   ]
  },
  {
   "cell_type": "code",
   "execution_count": 4,
   "metadata": {},
   "outputs": [],
   "source": [
    "pw_home = requests.get('https://www.rug.nl/ggdc/productivity/pwt/')\n",
    "pw_excel_files = [i.get('href') for i in BeautifulSoup(pw_home.content).find_all('a')\\\n",
    "               if i.get('href') is not None and '.xlsx' in i.get('href')]"
   ]
  },
  {
   "cell_type": "code",
   "execution_count": 5,
   "metadata": {},
   "outputs": [],
   "source": [
    "pw_sn = pd.ExcelFile('https://www.rug.nl' + pw_excel_files[0]).sheet_names\n",
    "pw = pd.read_excel('https://www.rug.nl' + pw_excel_files[0],sheet_name = pw_sn)"
   ]
  },
  {
   "cell_type": "code",
   "execution_count": 6,
   "metadata": {},
   "outputs": [],
   "source": [
    "pw_key = pw[pw_sn[1]].dropna(axis = 0, subset = ['Variable definition'])\\\n",
    "                     .rename({'Variable name':'Key','Variable definition':'Variable'},axis = 1)"
   ]
  },
  {
   "cell_type": "code",
   "execution_count": 7,
   "metadata": {},
   "outputs": [],
   "source": [
    "df_pw = pd.melt(pw[pw_sn[2]].drop('currency_unit', axis = 1).drop('countrycode', axis = 1),\\\n",
    "                id_vars = ['country','year'])\\\n",
    "                .rename({'country':'Country','year':'Year','variable':'Key','value':'Value'},axis = 1)\\\n",
    "                .merge(pw_key, how = 'left', on = 'Key')\n",
    "df_pw['Industry'] = 'TOTAL INDUSTRIES'\n",
    "df_pw['Database'] = pw[pw_sn[0]].columns[0]"
   ]
  },
  {
   "cell_type": "code",
   "execution_count": 9,
   "metadata": {},
   "outputs": [],
   "source": [
    "df_pw.to_csv('pennworld.csv', index = False,header = True)"
   ]
  },
  {
   "cell_type": "markdown",
   "metadata": {},
   "source": [
    "# Merging the dataframes"
   ]
  },
  {
   "cell_type": "code",
   "execution_count": 18,
   "metadata": {},
   "outputs": [],
   "source": [
    "df = pd.concat([df_mp,df_pw,df_euklems],sort = False)"
   ]
  },
  {
   "cell_type": "code",
   "execution_count": 25,
   "metadata": {},
   "outputs": [
    {
     "data": {
      "text/plain": [
       "Real GDP per capita in 2011US$, multiple benchmarks (suitable for cross-country income comparisons)            125229\n",
       "Population, mid-year (thousands)                                                                               125229\n",
       "Real GDP per capita in 2011US$, 2011 benchmark (suitable for cross-country growth comparisons)                 125229\n",
       "Gross value added at current basic prices (in millions of national currency)                                    32298\n",
       "Number of persons engaged (thousands)                                                                           31080\n",
       "Compensation of employees (in millions of national currency)                                                    30240\n",
       "Intermediate inputs at current purchasers prices (in millions of national currency)                             30198\n",
       "Gross Output at current basic prices (in millions of national currency)                                         30198\n",
       "Number of employees (thousands)                                                                                 30030\n",
       "Gross value added, volume (2010 prices)                                                                         29988\n",
       "Gross value added, price indices, 2010 = 100                                                                    29610\n",
       "Growth rate of value added volume (% per year)                                                                  29274\n",
       "Total hours worked by employees (thousands)                                                                     28770\n",
       "Total hours worked by persons engaged (thousands)                                                               28434\n",
       "Labour compensation (in millions of national currency)                                                          27006\n",
       "Capital compensation (in millions of national currency)                                                         27006\n",
       "Growth rate of value added per person employed  (% per year)                                                    26922\n",
       "Gross value added per hour worked, volume indices, 2010 = 100                                                   26502\n",
       "Growth rate of value added per hour worked  (% per year)                                                        26166\n",
       "Nominal gross fixed capital formation, in millions of national currency of Residential structures               23895\n",
       "Real gross fixed capital formation volume (2010 prices) of Residential structures                               23874\n",
       "Real gross fixed capital formation volume (2010 prices) of Transport Equipment                                  23475\n",
       "Nominal gross fixed capital formation, in millions of national currency of Transport Equipment                  23475\n",
       "Nominal gross fixed capital formation, in millions of national currency of Total Non-residential investment     23475\n",
       "Real gross fixed capital formation volume (2010 prices) of Total Non-residential investment                     23455\n",
       "Gross fixed capital formation price index (2010=100.0) of Total Non-residential investment                      23395\n",
       "Gross fixed capital formation price index (2010=100.0) of Transport Equipment                                   23394\n",
       "Nominal gross fixed capital formation, in millions of national currency of All assets                           23130\n",
       "Gross fixed capital formation price index (2010=100.0) of All assets                                            23091\n",
       "Real gross fixed capital formation volume (2010 prices) of All assets                                           23089\n",
       "                                                                                                                ...  \n",
       "Real internal rate of return                                                                                    12376\n",
       "Real domestic absorption at constant 2011 national prices (in mil. 2011US$)                                     12376\n",
       "Price level of exports, price level of USA GDPo in 2011=1                                                       12376\n",
       "Output-side real GDP at chained PPPs (in mil. 2011US$)                                                          12376\n",
       "Share of household consumption at current PPPs                                                                  12376\n",
       "Price level of household consumption,  price level of USA GDPo in 2011=1                                        12376\n",
       "Share of residual trade and GDP statistical discrepancy at current PPPs                                         12376\n",
       "Welfare-relevant TFP at constant national prices (2011=1)                                                       12376\n",
       "Price level of CCON (PPP/XR), price level of USA GDPo in 2011=1                                                 12376\n",
       "Real GDP at constant 2011 national prices (in mil. 2011US$)                                                     12376\n",
       "Statistical capacity indicator (source: World Bank, developing countries only)                                  12376\n",
       "Capital stock at constant 2011 national prices (in mil. 2011US$)                                                12376\n",
       "0/1/2: relative price data for exports and imports is extrapolated (0), benchmark (1) or interpolated (2)       12376\n",
       "Price level of capital formation,  price level of USA GDPo in 2011=1                                            12376\n",
       "Average depreciation rate of the capital stock                                                                  12376\n",
       "Price level of imports, price level of USA GDPo in 2011=1                                                       12376\n",
       "Share of labour compensation in GDP at current national prices                                                  12376\n",
       "Price level of CGDPo (PPP/XR),  price level of USA GDPo in 2011=1                                               12376\n",
       "Price level of the capital stock, price level of USA in 2011=1                                                  12376\n",
       "Share of merchandise exports at current PPPs                                                                    12376\n",
       "Share of merchandise imports at current PPPs                                                                    12376\n",
       "Correlation between expenditure shares of the country and the US (benchmark observations only)                  12376\n",
       "Real domestic absorption, (real consumption plus investment), at current PPPs (in mil. 2011US$)                 12376\n",
       "Real consumption at constant 2011 national prices (in mil. 2011US$)                                             12376\n",
       "Real consumption of households and government, at current PPPs (in mil. 2011US$)                                12376\n",
       "TFP at constant national prices (2011=1)                                                                        12376\n",
       "Output-side real GDP at current PPPs (in mil. 2011US$)                                                          12376\n",
       "Number of persons engaged (in millions)                                                                         12376\n",
       "0/1: the observation on pl_gdpe or pl_gdpo is not an outlier (0) or an outlier (1)                              12376\n",
       "Capital stock at current PPPs (in mil. 2011US$)                                                                 12376\n",
       "Name: Variable, Length: 146, dtype: int64"
      ]
     },
     "execution_count": 25,
     "metadata": {},
     "output_type": "execute_result"
    }
   ],
   "source": [
    "df['Variable'].value_counts()"
   ]
  },
  {
   "cell_type": "code",
   "execution_count": 1,
   "metadata": {},
   "outputs": [
    {
     "ename": "NameError",
     "evalue": "name 'df' is not defined",
     "output_type": "error",
     "traceback": [
      "\u001b[0;31m---------------------------------------------------------------------------\u001b[0m",
      "\u001b[0;31mNameError\u001b[0m                                 Traceback (most recent call last)",
      "\u001b[0;32m<ipython-input-1-93953161ca9c>\u001b[0m in \u001b[0;36m<module>\u001b[0;34m\u001b[0m\n\u001b[0;32m----> 1\u001b[0;31m df.loc[(df['Variable'] == 'Real gross fixed capital formation volume (2010 prices) of All assets') \\\n\u001b[0m\u001b[1;32m      2\u001b[0m                          & (df['Industry'] == 'TOTAL INDUSTRIES')]\n",
      "\u001b[0;31mNameError\u001b[0m: name 'df' is not defined"
     ]
    }
   ],
   "source": [
    "df.loc[(df['Variable'] == 'Real gross fixed capital formation volume (2010 prices) of All assets') \\\n",
    "                         & (df['Industry'] == 'TOTAL INDUSTRIES')]"
   ]
  },
  {
   "cell_type": "code",
   "execution_count": 16,
   "metadata": {
    "scrolled": true
   },
   "outputs": [
    {
     "data": {
      "text/plain": [
       "<pandas.core.groupby.generic.DataFrameGroupBy object at 0x7f8017156e48>"
      ]
     },
     "execution_count": 16,
     "metadata": {},
     "output_type": "execute_result"
    }
   ],
   "source": [
    "df.groupby(['Country', 'Year'])"
   ]
  },
  {
   "cell_type": "code",
   "execution_count": 42,
   "metadata": {},
   "outputs": [
    {
     "data": {
      "text/plain": [
       "<pandas.core.groupby.generic.DataFrameGroupBy object at 0x7f9f64e0b2e8>"
      ]
     },
     "execution_count": 42,
     "metadata": {},
     "output_type": "execute_result"
    }
   ],
   "source": []
  },
  {
   "cell_type": "code",
   "execution_count": 2,
   "metadata": {},
   "outputs": [
    {
     "name": "stderr",
     "output_type": "stream",
     "text": [
      "/var/www/rajkjupyter/.local/lib/python3.6/site-packages/IPython/core/interactiveshell.py:3049: DtypeWarning: Columns (4) have mixed types. Specify dtype option on import or set low_memory=False.\n",
      "  interactivity=interactivity, compiler=compiler, result=result)\n"
     ]
    }
   ],
   "source": [
    "df = pd.read_csv('euklems.csv')"
   ]
  },
  {
   "cell_type": "code",
   "execution_count": 3,
   "metadata": {},
   "outputs": [
    {
     "data": {
      "text/html": [
       "<div>\n",
       "<style scoped>\n",
       "    .dataframe tbody tr th:only-of-type {\n",
       "        vertical-align: middle;\n",
       "    }\n",
       "\n",
       "    .dataframe tbody tr th {\n",
       "        vertical-align: top;\n",
       "    }\n",
       "\n",
       "    .dataframe thead th {\n",
       "        text-align: right;\n",
       "    }\n",
       "</style>\n",
       "<table border=\"1\" class=\"dataframe\">\n",
       "  <thead>\n",
       "    <tr style=\"text-align: right;\">\n",
       "      <th></th>\n",
       "      <th>Country</th>\n",
       "      <th>Key</th>\n",
       "      <th>Year</th>\n",
       "      <th>Industry</th>\n",
       "      <th>Value</th>\n",
       "      <th>Variable</th>\n",
       "      <th>Database</th>\n",
       "    </tr>\n",
       "  </thead>\n",
       "  <tbody>\n",
       "    <tr>\n",
       "      <td>0</td>\n",
       "      <td>Austria</td>\n",
       "      <td>VA</td>\n",
       "      <td>1995.0</td>\n",
       "      <td>TOTAL INDUSTRIES</td>\n",
       "      <td>158369.4</td>\n",
       "      <td>Gross value added at current basic prices (in ...</td>\n",
       "      <td>EU KLEMS</td>\n",
       "    </tr>\n",
       "    <tr>\n",
       "      <td>1</td>\n",
       "      <td>Austria</td>\n",
       "      <td>VA</td>\n",
       "      <td>1995.0</td>\n",
       "      <td>MARKET ECONOMY</td>\n",
       "      <td>117904.6</td>\n",
       "      <td>Gross value added at current basic prices (in ...</td>\n",
       "      <td>EU KLEMS</td>\n",
       "    </tr>\n",
       "    <tr>\n",
       "      <td>2</td>\n",
       "      <td>Austria</td>\n",
       "      <td>VA</td>\n",
       "      <td>1995.0</td>\n",
       "      <td>AGRICULTURE, FORESTRY AND FISHING</td>\n",
       "      <td>3814.1</td>\n",
       "      <td>Gross value added at current basic prices (in ...</td>\n",
       "      <td>EU KLEMS</td>\n",
       "    </tr>\n",
       "    <tr>\n",
       "      <td>3</td>\n",
       "      <td>Austria</td>\n",
       "      <td>VA</td>\n",
       "      <td>1995.0</td>\n",
       "      <td>MINING AND QUARRYING</td>\n",
       "      <td>543.5</td>\n",
       "      <td>Gross value added at current basic prices (in ...</td>\n",
       "      <td>EU KLEMS</td>\n",
       "    </tr>\n",
       "    <tr>\n",
       "      <td>4</td>\n",
       "      <td>Austria</td>\n",
       "      <td>VA</td>\n",
       "      <td>1995.0</td>\n",
       "      <td>TOTAL MANUFACTURING</td>\n",
       "      <td>31602.4</td>\n",
       "      <td>Gross value added at current basic prices (in ...</td>\n",
       "      <td>EU KLEMS</td>\n",
       "    </tr>\n",
       "    <tr>\n",
       "      <td>...</td>\n",
       "      <td>...</td>\n",
       "      <td>...</td>\n",
       "      <td>...</td>\n",
       "      <td>...</td>\n",
       "      <td>...</td>\n",
       "      <td>...</td>\n",
       "      <td>...</td>\n",
       "    </tr>\n",
       "    <tr>\n",
       "      <td>1958091</td>\n",
       "      <td>EU-16 (growth accounting)</td>\n",
       "      <td>TFPlp2_I</td>\n",
       "      <td>2015.0</td>\n",
       "      <td>ARTS, ENTERTAINMENT, RECREATION AND OTHER SERV...</td>\n",
       "      <td>96.5576</td>\n",
       "      <td>TFP ( value added per person employed based) g...</td>\n",
       "      <td>EU KLEMS</td>\n",
       "    </tr>\n",
       "    <tr>\n",
       "      <td>1958092</td>\n",
       "      <td>EU-16 (growth accounting)</td>\n",
       "      <td>TFPlp2_I</td>\n",
       "      <td>2015.0</td>\n",
       "      <td>Arts, entertainment and recreation</td>\n",
       "      <td>NaN</td>\n",
       "      <td>TFP ( value added per person employed based) g...</td>\n",
       "      <td>EU KLEMS</td>\n",
       "    </tr>\n",
       "    <tr>\n",
       "      <td>1958093</td>\n",
       "      <td>EU-16 (growth accounting)</td>\n",
       "      <td>TFPlp2_I</td>\n",
       "      <td>2015.0</td>\n",
       "      <td>Other service activities</td>\n",
       "      <td>NaN</td>\n",
       "      <td>TFP ( value added per person employed based) g...</td>\n",
       "      <td>EU KLEMS</td>\n",
       "    </tr>\n",
       "    <tr>\n",
       "      <td>1958094</td>\n",
       "      <td>EU-16 (growth accounting)</td>\n",
       "      <td>TFPlp2_I</td>\n",
       "      <td>2015.0</td>\n",
       "      <td>Activities of households as employers; undiffe...</td>\n",
       "      <td>NaN</td>\n",
       "      <td>TFP ( value added per person employed based) g...</td>\n",
       "      <td>EU KLEMS</td>\n",
       "    </tr>\n",
       "    <tr>\n",
       "      <td>1958095</td>\n",
       "      <td>EU-16 (growth accounting)</td>\n",
       "      <td>TFPlp2_I</td>\n",
       "      <td>2015.0</td>\n",
       "      <td>Activities of extraterritorial organizations a...</td>\n",
       "      <td>NaN</td>\n",
       "      <td>TFP ( value added per person employed based) g...</td>\n",
       "      <td>EU KLEMS</td>\n",
       "    </tr>\n",
       "  </tbody>\n",
       "</table>\n",
       "<p>1958096 rows × 7 columns</p>\n",
       "</div>"
      ],
      "text/plain": [
       "                           Country       Key    Year  \\\n",
       "0                          Austria        VA  1995.0   \n",
       "1                          Austria        VA  1995.0   \n",
       "2                          Austria        VA  1995.0   \n",
       "3                          Austria        VA  1995.0   \n",
       "4                          Austria        VA  1995.0   \n",
       "...                            ...       ...     ...   \n",
       "1958091  EU-16 (growth accounting)  TFPlp2_I  2015.0   \n",
       "1958092  EU-16 (growth accounting)  TFPlp2_I  2015.0   \n",
       "1958093  EU-16 (growth accounting)  TFPlp2_I  2015.0   \n",
       "1958094  EU-16 (growth accounting)  TFPlp2_I  2015.0   \n",
       "1958095  EU-16 (growth accounting)  TFPlp2_I  2015.0   \n",
       "\n",
       "                                                  Industry     Value  \\\n",
       "0                                         TOTAL INDUSTRIES  158369.4   \n",
       "1                                           MARKET ECONOMY  117904.6   \n",
       "2                        AGRICULTURE, FORESTRY AND FISHING    3814.1   \n",
       "3                                     MINING AND QUARRYING     543.5   \n",
       "4                                      TOTAL MANUFACTURING   31602.4   \n",
       "...                                                    ...       ...   \n",
       "1958091  ARTS, ENTERTAINMENT, RECREATION AND OTHER SERV...   96.5576   \n",
       "1958092                 Arts, entertainment and recreation       NaN   \n",
       "1958093                           Other service activities       NaN   \n",
       "1958094  Activities of households as employers; undiffe...       NaN   \n",
       "1958095  Activities of extraterritorial organizations a...       NaN   \n",
       "\n",
       "                                                  Variable  Database  \n",
       "0        Gross value added at current basic prices (in ...  EU KLEMS  \n",
       "1        Gross value added at current basic prices (in ...  EU KLEMS  \n",
       "2        Gross value added at current basic prices (in ...  EU KLEMS  \n",
       "3        Gross value added at current basic prices (in ...  EU KLEMS  \n",
       "4        Gross value added at current basic prices (in ...  EU KLEMS  \n",
       "...                                                    ...       ...  \n",
       "1958091  TFP ( value added per person employed based) g...  EU KLEMS  \n",
       "1958092  TFP ( value added per person employed based) g...  EU KLEMS  \n",
       "1958093  TFP ( value added per person employed based) g...  EU KLEMS  \n",
       "1958094  TFP ( value added per person employed based) g...  EU KLEMS  \n",
       "1958095  TFP ( value added per person employed based) g...  EU KLEMS  \n",
       "\n",
       "[1958096 rows x 7 columns]"
      ]
     },
     "execution_count": 3,
     "metadata": {},
     "output_type": "execute_result"
    }
   ],
   "source": [
    "df"
   ]
  },
  {
   "cell_type": "code",
   "execution_count": null,
   "metadata": {},
   "outputs": [],
   "source": []
  }
 ],
 "metadata": {
  "kernelspec": {
   "display_name": "Python 3",
   "language": "python",
   "name": "python3"
  },
  "language_info": {
   "codemirror_mode": {
    "name": "ipython",
    "version": 3
   },
   "file_extension": ".py",
   "mimetype": "text/x-python",
   "name": "python",
   "nbconvert_exporter": "python",
   "pygments_lexer": "ipython3",
   "version": "3.6.9"
  }
 },
 "nbformat": 4,
 "nbformat_minor": 2
}
